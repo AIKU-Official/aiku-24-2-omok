{
 "cells": [
  {
   "cell_type": "code",
   "execution_count": 3,
   "metadata": {},
   "outputs": [
    {
     "name": "stdout",
     "output_type": "stream",
     "text": [
      "Looking in indexes: https://pypi.org/simple, https://pypi.ngc.nvidia.com\n",
      "Collecting ipywidgets\n",
      "  Downloading ipywidgets-8.1.5-py3-none-any.whl.metadata (2.3 kB)\n",
      "Requirement already satisfied: comm>=0.1.3 in /home/aikusrv01/anaconda3/envs/omok/lib/python3.8/site-packages (from ipywidgets) (0.2.2)\n",
      "Requirement already satisfied: ipython>=6.1.0 in /home/aikusrv01/anaconda3/envs/omok/lib/python3.8/site-packages (from ipywidgets) (8.12.2)\n",
      "Requirement already satisfied: traitlets>=4.3.1 in /home/aikusrv01/anaconda3/envs/omok/lib/python3.8/site-packages (from ipywidgets) (5.14.3)\n",
      "Collecting widgetsnbextension~=4.0.12 (from ipywidgets)\n",
      "  Downloading widgetsnbextension-4.0.13-py3-none-any.whl.metadata (1.6 kB)\n",
      "Collecting jupyterlab-widgets~=3.0.12 (from ipywidgets)\n",
      "  Downloading jupyterlab_widgets-3.0.13-py3-none-any.whl.metadata (4.1 kB)\n",
      "Requirement already satisfied: backcall in /home/aikusrv01/anaconda3/envs/omok/lib/python3.8/site-packages (from ipython>=6.1.0->ipywidgets) (0.2.0)\n",
      "Requirement already satisfied: decorator in /home/aikusrv01/anaconda3/envs/omok/lib/python3.8/site-packages (from ipython>=6.1.0->ipywidgets) (5.1.1)\n",
      "Requirement already satisfied: jedi>=0.16 in /home/aikusrv01/anaconda3/envs/omok/lib/python3.8/site-packages (from ipython>=6.1.0->ipywidgets) (0.19.1)\n",
      "Requirement already satisfied: matplotlib-inline in /home/aikusrv01/anaconda3/envs/omok/lib/python3.8/site-packages (from ipython>=6.1.0->ipywidgets) (0.1.7)\n",
      "Requirement already satisfied: pickleshare in /home/aikusrv01/anaconda3/envs/omok/lib/python3.8/site-packages (from ipython>=6.1.0->ipywidgets) (0.7.5)\n",
      "Requirement already satisfied: prompt-toolkit!=3.0.37,<3.1.0,>=3.0.30 in /home/aikusrv01/anaconda3/envs/omok/lib/python3.8/site-packages (from ipython>=6.1.0->ipywidgets) (3.0.48)\n",
      "Requirement already satisfied: pygments>=2.4.0 in /home/aikusrv01/anaconda3/envs/omok/lib/python3.8/site-packages (from ipython>=6.1.0->ipywidgets) (2.18.0)\n",
      "Requirement already satisfied: stack-data in /home/aikusrv01/anaconda3/envs/omok/lib/python3.8/site-packages (from ipython>=6.1.0->ipywidgets) (0.6.2)\n",
      "Requirement already satisfied: typing-extensions in /home/aikusrv01/anaconda3/envs/omok/lib/python3.8/site-packages (from ipython>=6.1.0->ipywidgets) (4.11.0)\n",
      "Requirement already satisfied: pexpect>4.3 in /home/aikusrv01/anaconda3/envs/omok/lib/python3.8/site-packages (from ipython>=6.1.0->ipywidgets) (4.9.0)\n",
      "Requirement already satisfied: parso<0.9.0,>=0.8.3 in /home/aikusrv01/anaconda3/envs/omok/lib/python3.8/site-packages (from jedi>=0.16->ipython>=6.1.0->ipywidgets) (0.8.4)\n",
      "Requirement already satisfied: ptyprocess>=0.5 in /home/aikusrv01/anaconda3/envs/omok/lib/python3.8/site-packages (from pexpect>4.3->ipython>=6.1.0->ipywidgets) (0.7.0)\n",
      "Requirement already satisfied: wcwidth in /home/aikusrv01/anaconda3/envs/omok/lib/python3.8/site-packages (from prompt-toolkit!=3.0.37,<3.1.0,>=3.0.30->ipython>=6.1.0->ipywidgets) (0.2.13)\n",
      "Requirement already satisfied: executing>=1.2.0 in /home/aikusrv01/anaconda3/envs/omok/lib/python3.8/site-packages (from stack-data->ipython>=6.1.0->ipywidgets) (2.1.0)\n",
      "Requirement already satisfied: asttokens>=2.1.0 in /home/aikusrv01/anaconda3/envs/omok/lib/python3.8/site-packages (from stack-data->ipython>=6.1.0->ipywidgets) (3.0.0)\n",
      "Requirement already satisfied: pure-eval in /home/aikusrv01/anaconda3/envs/omok/lib/python3.8/site-packages (from stack-data->ipython>=6.1.0->ipywidgets) (0.2.3)\n",
      "Downloading ipywidgets-8.1.5-py3-none-any.whl (139 kB)\n",
      "Downloading jupyterlab_widgets-3.0.13-py3-none-any.whl (214 kB)\n",
      "Downloading widgetsnbextension-4.0.13-py3-none-any.whl (2.3 MB)\n",
      "\u001b[2K   \u001b[90m━━━━━━━━━━━━━━━━━━━━━━━━━━━━━━━━━━━━━━━━\u001b[0m \u001b[32m2.3/2.3 MB\u001b[0m \u001b[31m34.0 MB/s\u001b[0m eta \u001b[36m0:00:00\u001b[0m\n",
      "\u001b[?25hInstalling collected packages: widgetsnbextension, jupyterlab-widgets, ipywidgets\n",
      "Successfully installed ipywidgets-8.1.5 jupyterlab-widgets-3.0.13 widgetsnbextension-4.0.13\n"
     ]
    }
   ],
   "source": [
    "!pip install ipywidgets"
   ]
  },
  {
   "cell_type": "code",
   "execution_count": null,
   "metadata": {},
   "outputs": [
    {
     "data": {
      "image/png": "[encoded data removed]",
      "text/plain": [
       "<Figure size 800x800 with 1 Axes>"
      ]
     },
     "metadata": {},
     "output_type": "display_data"
    },
    {
     "data": {
      "application/vnd.jupyter.widget-view+json": {
       "model_id": "fed02a4a20704001982f2d8a5a42e06d",
       "version_major": 2,
       "version_minor": 0
      },
      "text/plain": [
       "interactive(children=(IntSlider(value=7, description='x', max=14), IntSlider(value=7, description='y', max=14)…"
      ]
     },
     "metadata": {},
     "output_type": "display_data"
    }
   ],
   "source": [
    "import numpy as np\n",
    "import matplotlib.pyplot as plt\n",
    "from ipywidgets import interact\n",
    "from IPython.display import display, clear_output\n",
    "from game import Game\n",
    "from agent import Agent, User\n",
    "from model1 import Residual_CNN\n",
    "import config\n",
    "import torch\n",
    "\n",
    "# 게임 초기화\n",
    "game = Game()\n",
    "board_size = int(game.state_size ** 0.5)  # 보드 크기 계산\n",
    "game.reset()  # 초기화\n",
    "\n",
    "# 이미 학습된 모델 로드\n",
    "model_path = \"/home/aikusrv01/omok/torch_omok_test/DeepReinforcementLearning/models/gomokucurr_0025.pt\"  # 학습된 모델 파일 경로\n",
    "\n",
    "ai_nn = Residual_CNN(\n",
    "    config.REG_CONST,\n",
    "    config.LEARNING_RATE,\n",
    "    game.input_shape,\n",
    "    game.action_size,\n",
    "    config.HIDDEN_CNN_LAYERS,\n",
    ")\n",
    "ai_nn.load_state_dict(torch.load(model_path, map_location=torch.device(\"cpu\")))\n",
    "ai_nn.eval()  # 평가 모드 설정\n",
    "\n",
    "# AI Agent 초기화\n",
    "ai = Agent(\"AI\", game.state_size, game.action_size, config.MCTS_SIMS, config.CPUCT, ai_nn, device=None)\n",
    "\n",
    "# 보드 초기화\n",
    "board = np.zeros((board_size, board_size), dtype=int)\n",
    "\n",
    "# 승리 체크 함수\n",
    "def check_winner():\n",
    "    if game.gameState.isEndGame == 1:\n",
    "        winner = \"User (Black)\" if game.gameState.playerTurn == -1 else \"AI (White)\"\n",
    "        return winner\n",
    "    return None\n",
    "\n",
    "# 보드 시각화 함수\n",
    "def render_board():\n",
    "    clear_output(wait=True)\n",
    "    plt.figure(figsize=(8, 8))\n",
    "    plt.imshow(np.zeros((board_size, board_size)), cmap=\"gray\", extent=(0, board_size, 0, board_size))\n",
    "    plt.xticks(range(board_size))\n",
    "    plt.yticks(range(board_size))\n",
    "    plt.grid(color=\"black\", linestyle=\"-\", linewidth=1)\n",
    "\n",
    "    for i in range(board_size):\n",
    "        for j in range(board_size):\n",
    "            if board[i, j] == 1:  # Black stone\n",
    "                plt.plot(j + 0.5, board_size - i - 0.5, 'ko', markersize=20)\n",
    "            elif board[i, j] == -1:  # White stone\n",
    "                plt.plot(j + 0.5, board_size - i - 0.5, 'wo', markersize=20)\n",
    "\n",
    "    plt.show() \n",
    "\n",
    "# 유저의 턴 처리 함수\n",
    "def user_turn(row, col):\n",
    "    global board\n",
    "    action = row * board_size + col\n",
    "\n",
    "    if game.gameState.board[action] != 0:\n",
    "        print(\"Cell is already occupied. Choose another cell.\")\n",
    "        return\n",
    "\n",
    "    # 유저가 돌을 놓음\n",
    "    game.step(action)\n",
    "    board[row, col] = 1\n",
    "\n",
    "    winner = check_winner()\n",
    "    if winner:\n",
    "        render_board()\n",
    "        print(f\"Game Over! {winner} wins!\")\n",
    "        return\n",
    "\n",
    "    # AI의 턴\n",
    "    ai_action, _, _, _ = ai.act(game.gameState, tau=0)\n",
    "    ai_row, ai_col = divmod(ai_action, board_size)\n",
    "    game.step(ai_action)\n",
    "    board[ai_row, ai_col] = -1\n",
    "\n",
    "    winner = check_winner()\n",
    "    render_board()\n",
    "    if winner:\n",
    "        print(f\"Game Over! {winner} wins!\")\n",
    "\n",
    "# 인터랙티브 UI 설정\n",
    "def interactive_game(row, col):\n",
    "    user_turn(row, col)\n",
    "\n",
    "# 위젯 생성\n",
    "interact(\n",
    "    interactive_game,\n",
    "    row=(0, board_size - 1, 1),\n",
    "    col=(0, board_size - 1, 1)\n",
    ")\n",
    "\n",
    "render_board()\n"
   ]
  },
  {
   "cell_type": "code",
   "execution_count": null,
   "metadata": {},
   "outputs": [],
   "source": []
  }
 ],
 "metadata": {
  "kernelspec": {
   "display_name": "omok",
   "language": "python",
   "name": "python3"
  },
  "language_info": {
   "codemirror_mode": {
    "name": "ipython",
    "version": 3
   },
   "file_extension": ".py",
   "mimetype": "text/x-python",
   "name": "python",
   "nbconvert_exporter": "python",
   "pygments_lexer": "ipython3",
   "version": "3.8.20"
  }
 },
 "nbformat": 4,
 "nbformat_minor": 2
}
